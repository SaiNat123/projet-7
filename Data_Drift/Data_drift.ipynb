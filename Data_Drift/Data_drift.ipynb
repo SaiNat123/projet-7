{
 "cells": [
  {
   "cell_type": "code",
   "execution_count": 11,
   "id": "e47d9d42-ea72-4561-a19e-ab5532f38515",
   "metadata": {},
   "outputs": [
    {
     "name": "stdout",
     "output_type": "stream",
     "text": [
      "Création du data_drift_report\n"
     ]
    },
    {
     "name": "stderr",
     "output_type": "stream",
     "text": [
      "C:\\Users\\saidi\\anaconda3\\Lib\\site-packages\\numpy\\lib\\function_base.py:2854: RuntimeWarning:\n",
      "\n",
      "invalid value encountered in divide\n",
      "\n",
      "C:\\Users\\saidi\\anaconda3\\Lib\\site-packages\\numpy\\lib\\function_base.py:2855: RuntimeWarning:\n",
      "\n",
      "invalid value encountered in divide\n",
      "\n",
      "C:\\Users\\saidi\\anaconda3\\Lib\\site-packages\\numpy\\lib\\function_base.py:2854: RuntimeWarning:\n",
      "\n",
      "invalid value encountered in divide\n",
      "\n",
      "C:\\Users\\saidi\\anaconda3\\Lib\\site-packages\\numpy\\lib\\function_base.py:2855: RuntimeWarning:\n",
      "\n",
      "invalid value encountered in divide\n",
      "\n"
     ]
    },
    {
     "name": "stdout",
     "output_type": "stream",
     "text": [
      "Temps d'exécution : 70.31 secondes\n",
      "Rapport sauvegardé sous 'data_drift_report.html'\n"
     ]
    }
   ],
   "source": [
    "import evidently\n",
    "import time\n",
    "from evidently.report import Report\n",
    "from evidently.metric_preset import DataDriftPreset\n",
    "from evidently import ColumnMapping\n",
    "import pandas as pd\n",
    "import numpy as np\n",
    "\n",
    "# 1. Chargement des datasets\n",
    "df_train = pd.read_csv('application_train.csv', sep=\",\")\n",
    "df_test = pd.read_csv('application_test.csv', sep=\",\")\n",
    "\n",
    "# 2. Séparation des jeux de données\n",
    "application_train = df_train.dropna(subset=['TARGET']).drop(columns=['SK_ID_CURR','TARGET'])\n",
    "application_test = df_test.drop(columns=['SK_ID_CURR'])\n",
    "\n",
    "# 3. Identification des colonnes numériques et catégorielles\n",
    "numerical_columns = application_train.select_dtypes(include=[np.number]).columns.tolist()\n",
    "categorical_columns = application_train.select_dtypes(include=[object]).columns.tolist()\n",
    "\n",
    "# 4. Suppression des colonnes vides\n",
    "application_train = application_train.dropna(axis=1, how='all')\n",
    "application_test = application_test.dropna(axis=1, how='all')\n",
    "\n",
    "# Mise à jour des colonnes après suppression des colonnes vides\n",
    "numerical_columns = [col for col in numerical_columns if col in application_train.columns]\n",
    "categorical_columns = [col for col in categorical_columns if col in application_train.columns]\n",
    "\n",
    "# 5. Remplacement des valeurs infinies par NaN\n",
    "application_train.replace([np.inf, -np.inf], np.nan, inplace=True)\n",
    "application_test.replace([np.inf, -np.inf], np.nan, inplace=True)\n",
    "\n",
    "# 6. Remplacement des valeurs manquantes pour les colonnes numériques\n",
    "application_train[numerical_columns] = application_train[numerical_columns].apply(pd.to_numeric, errors='coerce').fillna(application_train[numerical_columns].mean())\n",
    "application_test[numerical_columns] = application_test[numerical_columns].apply(pd.to_numeric, errors='coerce').fillna(application_test[numerical_columns].mean())\n",
    "\n",
    "# 7. Remplacement des valeurs manquantes pour les colonnes catégorielles\n",
    "application_train[categorical_columns] = application_train[categorical_columns].fillna('missing')\n",
    "application_test[categorical_columns] = application_test[categorical_columns].fillna('missing')\n",
    "\n",
    "# 8. Création du column mapping pour Evidently\n",
    "column_mapping = ColumnMapping()\n",
    "column_mapping.numerical_features = numerical_columns\n",
    "column_mapping.categorical_features = categorical_columns\n",
    "\n",
    "# 9. Création du rapport de Data Drift\n",
    "data_drift_report = Report(metrics=[\n",
    "    DataDriftPreset(num_stattest='ks', cat_stattest='psi', num_stattest_threshold=0.2, cat_stattest_threshold=0.2),\n",
    "])\n",
    "\n",
    "print(\"Création du data_drift_report\")\n",
    "\n",
    "# 10. Exécution du rapport\n",
    "start_time = time.time()\n",
    "data_drift_report.run(reference_data=application_train, current_data=application_test, column_mapping=column_mapping)\n",
    "elapsed_time_fit = time.time() - start_time\n",
    "print(f\"Temps d'exécution : {elapsed_time_fit:.2f} secondes\")\n",
    "\n",
    "# 11. Sauvegarde du rapport en tant que fichier HTML\n",
    "data_drift_report.save_html('data_drift_report_.html')\n",
    "print(\"Rapport sauvegardé sous 'data_drift_report.html'\")\n"
   ]
  },
  {
   "cell_type": "code",
   "execution_count": null,
   "id": "b4c44bbb-7b8a-434a-b4dc-e40c57d959d3",
   "metadata": {},
   "outputs": [],
   "source": []
  }
 ],
 "metadata": {
  "kernelspec": {
   "display_name": "Python 3 (ipykernel)",
   "language": "python",
   "name": "python3"
  },
  "language_info": {
   "codemirror_mode": {
    "name": "ipython",
    "version": 3
   },
   "file_extension": ".py",
   "mimetype": "text/x-python",
   "name": "python",
   "nbconvert_exporter": "python",
   "pygments_lexer": "ipython3",
   "version": "3.11.9"
  }
 },
 "nbformat": 4,
 "nbformat_minor": 5
}
